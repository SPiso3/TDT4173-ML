{
 "cells": [
  {
   "cell_type": "markdown",
   "id": "5a0d379a",
   "metadata": {},
   "source": [
    "# DATA PROCESSING FOR XGB TRAINED ON EVERY DAY DISTANCE"
   ]
  },
  {
   "cell_type": "code",
   "execution_count": 1,
   "id": "c5e0442d",
   "metadata": {},
   "outputs": [],
   "source": [
    "import pandas as pd \n",
    "import xgboost as xgb\n",
    "import numpy as np\n",
    "import geopandas as gpd \n",
    "import matplotlib.pyplot as plt \n",
    "from calendar import monthrange\n",
    "from sklearn.preprocessing import LabelEncoder\n",
    "from sklearn.multioutput import MultiOutputRegressor\n",
    "from sklearn.preprocessing import StandardScaler\n",
    "from sklearn.model_selection import train_test_split\n",
    "from sklearn.metrics import mean_absolute_error\n",
    "pd.set_option('display.max_rows', None)\n",
    "pd.set_option('display.max_columns', None)"
   ]
  },
  {
   "cell_type": "code",
   "execution_count": 2,
   "id": "04a11164",
   "metadata": {},
   "outputs": [],
   "source": [
    "def preprocess(df):\n",
    "    # Replacing default with Nan bacause too close to valid values, eliminate non valid values\n",
    "    df['cog'] = df['cog'].replace(360, np.nan)\n",
    "    df = df[(df['cog'] <= 360) | (df['cog'].isna())]\n",
    "\n",
    "    # Replacing default with Nan bacause too close to valid values\n",
    "    df['sog'] = df['sog'].replace(1023, np.nan)\n",
    "\n",
    "    # Replacing default with Nan bacause too close to valid values\n",
    "    # Changing uncertain values to bigger number to be further away from sample pool\n",
    "    # Adding uncertainty flag\n",
    "    df['rot'] = df['rot'].replace(128, np.nan)\n",
    "    df['rot'] = df['rot'].replace({127: 200, -127: -200})\n",
    "    df['uncertain_rot'] = np.where(df['rot'].isin([200, -200]), 1, 0)\n",
    "\n",
    "    # Replacing default value with NaN to not get taken in consideration by regression\n",
    "    df['heading'] = df['heading'].replace(511, np.nan)\n",
    "    \n",
    "    # Time Handling \n",
    "    df['time'] = pd.to_datetime(df['time'], errors='coerce').dt.tz_localize('UTC')\n",
    "\n",
    "    # FEATURE ENGINEERING\n",
    "    # Separate Date-Time in single attributes\n",
    "    df['year_rec'] = df['time'].dt.year\n",
    "    df['month_rec'] = df['time'].dt.month\n",
    "    df['day_rec'] = df['time'].dt.day\n",
    "    df['hour_rec'] = df['time'].dt.hour\n",
    "    df['minute_rec'] = df['time'].dt.minute\n",
    "    df['dayofweek_rec'] = df['time'].dt.dayofweek\n",
    "    # Converts to seconds\n",
    "    df['time_seq'] = df['time'].astype(int) / 10**9  \n",
    "\n",
    "    df['sog_mean'] = df.groupby('vesselId', group_keys=False).apply(\n",
    "    lambda x: x.sort_values('time').rolling('3D', on='time')['sog'].mean())\n",
    "    \n",
    "    return df"
   ]
  },
  {
   "cell_type": "code",
   "execution_count": 3,
   "id": "1b5c45e1",
   "metadata": {},
   "outputs": [],
   "source": [
    "def make_training_set(df, steps):\n",
    "    df_copy = df.copy()\n",
    "    df_copy.sort_values(by=['vesselId', 'time'], inplace=True)\n",
    "    \n",
    "    # FEATURE ENGINEERING\n",
    "    # Vessels last data colletion \n",
    "    df_copy['latitude_lag'] = df_copy.groupby('vesselId')['latitude'].shift(steps)\n",
    "    df_copy['longitude_lag'] = df_copy.groupby('vesselId')['longitude'].shift(steps)\n",
    "    df_copy['sog_lag'] = df_copy.groupby('vesselId')['sog'].shift(steps)\n",
    "    df_copy['sog_mean_lag'] = df_copy.groupby('vesselId')['sog_mean'].shift(steps)\n",
    "    df_copy['cog_lag'] = df_copy.groupby('vesselId')['cog'].shift(steps)        # normalized\n",
    "    df_copy['rot_lag'] = df_copy.groupby('vesselId')['rot'].shift(steps) \n",
    "    df_copy['heading_lag'] = df_copy.groupby('vesselId')['heading'].shift(steps)  \n",
    "    \n",
    "    # Time since last data collection\n",
    "    df_copy['time_diff'] = df_copy.groupby('vesselId')['time'].diff(steps)\n",
    "    df_copy['time_diff_seconds'] = df_copy['time_diff'].dt.total_seconds()\n",
    "    # Apply the moving average function to each vessel group\n",
    "    # TOCHECK: df.dropna(inplace=True)\n",
    "    df_copy.dropna(subset=['time_diff'], inplace=True)\n",
    "    return df_copy"
   ]
  },
  {
   "cell_type": "markdown",
   "id": "e305698d",
   "metadata": {},
   "source": [
    "# TRAIN ON DIFFERENT TIME HORIZONS"
   ]
  },
  {
   "cell_type": "markdown",
   "id": "1b5033b9",
   "metadata": {},
   "source": [
    "## Process train"
   ]
  },
  {
   "cell_type": "code",
   "execution_count": null,
   "id": "ce5d4a41",
   "metadata": {},
   "outputs": [],
   "source": [
    "# Load train data\n",
    "known_positions = pd.read_csv('ais_train.csv', sep ='|')  # Replace with your dataset\n",
    "train = known_positions.copy()\n",
    "# Preprocess train\n",
    "train = preprocess(train)\n",
    "\n",
    "# Create training sets with variable time differences\n",
    "train1 = make_training_set(train, 1)\n",
    "train2 = make_training_set(train, 2)\n",
    "train3 = make_training_set(train, 3)\n",
    "train4 = make_training_set(train, 4)\n",
    "train5 = make_training_set(train, 5)\n",
    "train6 = make_training_set(train, 6)\n"
   ]
  },
  {
   "cell_type": "code",
   "execution_count": null,
   "id": "eae48a2d",
   "metadata": {},
   "outputs": [
    {
     "ename": "NameError",
     "evalue": "name 'pd' is not defined",
     "output_type": "error",
     "traceback": [
      "\u001b[0;31m---------------------------------------------------------------------------\u001b[0m",
      "\u001b[0;31mNameError\u001b[0m                                 Traceback (most recent call last)",
      "Cell \u001b[0;32mIn[1], line 1\u001b[0m\n\u001b[0;32m----> 1\u001b[0m train \u001b[38;5;241m=\u001b[39m pd\u001b[38;5;241m.\u001b[39mconcat([train1, train2, train3, train4, train5, train6], ignore_index\u001b[38;5;241m=\u001b[39m\u001b[38;5;28;01mTrue\u001b[39;00m)\n\u001b[1;32m      2\u001b[0m sdoasd\n",
      "\u001b[0;31mNameError\u001b[0m: name 'pd' is not defined"
     ]
    }
   ],
   "source": [
    "train = pd.concat([train1, train2, train3, train4, train5, train6], ignore_index=True)"
   ]
  },
  {
   "cell_type": "code",
   "execution_count": 6,
   "id": "8ef1c3e2",
   "metadata": {},
   "outputs": [],
   "source": [
    "train['navstat'] = pd.Categorical(train['navstat']).codes\n",
    "train['vesselId'] = pd.Categorical(train['vesselId']).codes\n",
    "train['portId'] = pd.Categorical(train['portId']).codes\n",
    "\n",
    "# Clean missing data\n",
    "train = train.dropna(subset=['latitude', 'longitude', 'time'])"
   ]
  },
  {
   "cell_type": "code",
   "execution_count": null,
   "id": "36b87688",
   "metadata": {},
   "outputs": [],
   "source": [
    "\n",
    "X = train[[\n",
    "    'vesselId', #try\n",
    "    'latitude_lag',\n",
    "    'longitude_lag',\n",
    "    'sog_lag',\n",
    "    'sog_mean_lag',\n",
    "    'cog_lag',\n",
    "    'rot_lag',\n",
    "    'heading_lag',\n",
    "    'time_diff_seconds',\n",
    "]]\n",
    "y = train[['latitude', 'longitude']]\n",
    "\n",
    "\n",
    "X_train, X_val, y_train, y_val = train_test_split(X, y, test_size=0.1, random_state=42)\n",
    "\n",
    "X_train = X_train.apply(pd.to_numeric, errors='coerce')"
   ]
  },
  {
   "cell_type": "code",
   "execution_count": 10,
   "id": "d42bd545",
   "metadata": {},
   "outputs": [
    {
     "data": {
      "text/html": [
       "<style>#sk-container-id-1 {color: black;}#sk-container-id-1 pre{padding: 0;}#sk-container-id-1 div.sk-toggleable {background-color: white;}#sk-container-id-1 label.sk-toggleable__label {cursor: pointer;display: block;width: 100%;margin-bottom: 0;padding: 0.3em;box-sizing: border-box;text-align: center;}#sk-container-id-1 label.sk-toggleable__label-arrow:before {content: \"▸\";float: left;margin-right: 0.25em;color: #696969;}#sk-container-id-1 label.sk-toggleable__label-arrow:hover:before {color: black;}#sk-container-id-1 div.sk-estimator:hover label.sk-toggleable__label-arrow:before {color: black;}#sk-container-id-1 div.sk-toggleable__content {max-height: 0;max-width: 0;overflow: hidden;text-align: left;background-color: #f0f8ff;}#sk-container-id-1 div.sk-toggleable__content pre {margin: 0.2em;color: black;border-radius: 0.25em;background-color: #f0f8ff;}#sk-container-id-1 input.sk-toggleable__control:checked~div.sk-toggleable__content {max-height: 200px;max-width: 100%;overflow: auto;}#sk-container-id-1 input.sk-toggleable__control:checked~label.sk-toggleable__label-arrow:before {content: \"▾\";}#sk-container-id-1 div.sk-estimator input.sk-toggleable__control:checked~label.sk-toggleable__label {background-color: #d4ebff;}#sk-container-id-1 div.sk-label input.sk-toggleable__control:checked~label.sk-toggleable__label {background-color: #d4ebff;}#sk-container-id-1 input.sk-hidden--visually {border: 0;clip: rect(1px 1px 1px 1px);clip: rect(1px, 1px, 1px, 1px);height: 1px;margin: -1px;overflow: hidden;padding: 0;position: absolute;width: 1px;}#sk-container-id-1 div.sk-estimator {font-family: monospace;background-color: #f0f8ff;border: 1px dotted black;border-radius: 0.25em;box-sizing: border-box;margin-bottom: 0.5em;}#sk-container-id-1 div.sk-estimator:hover {background-color: #d4ebff;}#sk-container-id-1 div.sk-parallel-item::after {content: \"\";width: 100%;border-bottom: 1px solid gray;flex-grow: 1;}#sk-container-id-1 div.sk-label:hover label.sk-toggleable__label {background-color: #d4ebff;}#sk-container-id-1 div.sk-serial::before {content: \"\";position: absolute;border-left: 1px solid gray;box-sizing: border-box;top: 0;bottom: 0;left: 50%;z-index: 0;}#sk-container-id-1 div.sk-serial {display: flex;flex-direction: column;align-items: center;background-color: white;padding-right: 0.2em;padding-left: 0.2em;position: relative;}#sk-container-id-1 div.sk-item {position: relative;z-index: 1;}#sk-container-id-1 div.sk-parallel {display: flex;align-items: stretch;justify-content: center;background-color: white;position: relative;}#sk-container-id-1 div.sk-item::before, #sk-container-id-1 div.sk-parallel-item::before {content: \"\";position: absolute;border-left: 1px solid gray;box-sizing: border-box;top: 0;bottom: 0;left: 50%;z-index: -1;}#sk-container-id-1 div.sk-parallel-item {display: flex;flex-direction: column;z-index: 1;position: relative;background-color: white;}#sk-container-id-1 div.sk-parallel-item:first-child::after {align-self: flex-end;width: 50%;}#sk-container-id-1 div.sk-parallel-item:last-child::after {align-self: flex-start;width: 50%;}#sk-container-id-1 div.sk-parallel-item:only-child::after {width: 0;}#sk-container-id-1 div.sk-dashed-wrapped {border: 1px dashed gray;margin: 0 0.4em 0.5em 0.4em;box-sizing: border-box;padding-bottom: 0.4em;background-color: white;}#sk-container-id-1 div.sk-label label {font-family: monospace;font-weight: bold;display: inline-block;line-height: 1.2em;}#sk-container-id-1 div.sk-label-container {text-align: center;}#sk-container-id-1 div.sk-container {/* jupyter's `normalize.less` sets `[hidden] { display: none; }` but bootstrap.min.css set `[hidden] { display: none !important; }` so we also need the `!important` here to be able to override the default hidden behavior on the sphinx rendered scikit-learn.org. See: https://github.com/scikit-learn/scikit-learn/issues/21755 */display: inline-block !important;position: relative;}#sk-container-id-1 div.sk-text-repr-fallback {display: none;}</style><div id=\"sk-container-id-1\" class=\"sk-top-container\"><div class=\"sk-text-repr-fallback\"><pre>MultiOutputRegressor(estimator=XGBRegressor(base_score=None, booster=None,\n",
       "                                            callbacks=None,\n",
       "                                            colsample_bylevel=None,\n",
       "                                            colsample_bynode=None,\n",
       "                                            colsample_bytree=None, device=None,\n",
       "                                            early_stopping_rounds=None,\n",
       "                                            enable_categorical=False,\n",
       "                                            eval_metric=None,\n",
       "                                            feature_types=None, gamma=None,\n",
       "                                            grow_policy=None,\n",
       "                                            importance_type=None,\n",
       "                                            interaction_constraints=None,\n",
       "                                            learning_rate=None, max_bin=None,\n",
       "                                            max_cat_threshold=None,\n",
       "                                            max_cat_to_onehot=None,\n",
       "                                            max_delta_step=None, max_depth=None,\n",
       "                                            max_leaves=None,\n",
       "                                            min_child_weight=None, missing=nan,\n",
       "                                            monotone_constraints=None,\n",
       "                                            multi_strategy=None,\n",
       "                                            n_estimators=None, n_jobs=None,\n",
       "                                            num_parallel_tree=None,\n",
       "                                            random_state=None, ...))</pre><b>In a Jupyter environment, please rerun this cell to show the HTML representation or trust the notebook. <br />On GitHub, the HTML representation is unable to render, please try loading this page with nbviewer.org.</b></div><div class=\"sk-container\" hidden><div class=\"sk-item sk-dashed-wrapped\"><div class=\"sk-label-container\"><div class=\"sk-label sk-toggleable\"><input class=\"sk-toggleable__control sk-hidden--visually\" id=\"sk-estimator-id-1\" type=\"checkbox\" ><label for=\"sk-estimator-id-1\" class=\"sk-toggleable__label sk-toggleable__label-arrow\">MultiOutputRegressor</label><div class=\"sk-toggleable__content\"><pre>MultiOutputRegressor(estimator=XGBRegressor(base_score=None, booster=None,\n",
       "                                            callbacks=None,\n",
       "                                            colsample_bylevel=None,\n",
       "                                            colsample_bynode=None,\n",
       "                                            colsample_bytree=None, device=None,\n",
       "                                            early_stopping_rounds=None,\n",
       "                                            enable_categorical=False,\n",
       "                                            eval_metric=None,\n",
       "                                            feature_types=None, gamma=None,\n",
       "                                            grow_policy=None,\n",
       "                                            importance_type=None,\n",
       "                                            interaction_constraints=None,\n",
       "                                            learning_rate=None, max_bin=None,\n",
       "                                            max_cat_threshold=None,\n",
       "                                            max_cat_to_onehot=None,\n",
       "                                            max_delta_step=None, max_depth=None,\n",
       "                                            max_leaves=None,\n",
       "                                            min_child_weight=None, missing=nan,\n",
       "                                            monotone_constraints=None,\n",
       "                                            multi_strategy=None,\n",
       "                                            n_estimators=None, n_jobs=None,\n",
       "                                            num_parallel_tree=None,\n",
       "                                            random_state=None, ...))</pre></div></div></div><div class=\"sk-parallel\"><div class=\"sk-parallel-item\"><div class=\"sk-item\"><div class=\"sk-label-container\"><div class=\"sk-label sk-toggleable\"><input class=\"sk-toggleable__control sk-hidden--visually\" id=\"sk-estimator-id-2\" type=\"checkbox\" ><label for=\"sk-estimator-id-2\" class=\"sk-toggleable__label sk-toggleable__label-arrow\">estimator: XGBRegressor</label><div class=\"sk-toggleable__content\"><pre>XGBRegressor(base_score=None, booster=None, callbacks=None,\n",
       "             colsample_bylevel=None, colsample_bynode=None,\n",
       "             colsample_bytree=None, device=None, early_stopping_rounds=None,\n",
       "             enable_categorical=False, eval_metric=None, feature_types=None,\n",
       "             gamma=None, grow_policy=None, importance_type=None,\n",
       "             interaction_constraints=None, learning_rate=None, max_bin=None,\n",
       "             max_cat_threshold=None, max_cat_to_onehot=None,\n",
       "             max_delta_step=None, max_depth=None, max_leaves=None,\n",
       "             min_child_weight=None, missing=nan, monotone_constraints=None,\n",
       "             multi_strategy=None, n_estimators=None, n_jobs=None,\n",
       "             num_parallel_tree=None, random_state=None, ...)</pre></div></div></div><div class=\"sk-serial\"><div class=\"sk-item\"><div class=\"sk-estimator sk-toggleable\"><input class=\"sk-toggleable__control sk-hidden--visually\" id=\"sk-estimator-id-3\" type=\"checkbox\" ><label for=\"sk-estimator-id-3\" class=\"sk-toggleable__label sk-toggleable__label-arrow\">XGBRegressor</label><div class=\"sk-toggleable__content\"><pre>XGBRegressor(base_score=None, booster=None, callbacks=None,\n",
       "             colsample_bylevel=None, colsample_bynode=None,\n",
       "             colsample_bytree=None, device=None, early_stopping_rounds=None,\n",
       "             enable_categorical=False, eval_metric=None, feature_types=None,\n",
       "             gamma=None, grow_policy=None, importance_type=None,\n",
       "             interaction_constraints=None, learning_rate=None, max_bin=None,\n",
       "             max_cat_threshold=None, max_cat_to_onehot=None,\n",
       "             max_delta_step=None, max_depth=None, max_leaves=None,\n",
       "             min_child_weight=None, missing=nan, monotone_constraints=None,\n",
       "             multi_strategy=None, n_estimators=None, n_jobs=None,\n",
       "             num_parallel_tree=None, random_state=None, ...)</pre></div></div></div></div></div></div></div></div></div></div>"
      ],
      "text/plain": [
       "MultiOutputRegressor(estimator=XGBRegressor(base_score=None, booster=None,\n",
       "                                            callbacks=None,\n",
       "                                            colsample_bylevel=None,\n",
       "                                            colsample_bynode=None,\n",
       "                                            colsample_bytree=None, device=None,\n",
       "                                            early_stopping_rounds=None,\n",
       "                                            enable_categorical=False,\n",
       "                                            eval_metric=None,\n",
       "                                            feature_types=None, gamma=None,\n",
       "                                            grow_policy=None,\n",
       "                                            importance_type=None,\n",
       "                                            interaction_constraints=None,\n",
       "                                            learning_rate=None, max_bin=None,\n",
       "                                            max_cat_threshold=None,\n",
       "                                            max_cat_to_onehot=None,\n",
       "                                            max_delta_step=None, max_depth=None,\n",
       "                                            max_leaves=None,\n",
       "                                            min_child_weight=None, missing=nan,\n",
       "                                            monotone_constraints=None,\n",
       "                                            multi_strategy=None,\n",
       "                                            n_estimators=None, n_jobs=None,\n",
       "                                            num_parallel_tree=None,\n",
       "                                            random_state=None, ...))"
      ]
     },
     "execution_count": 10,
     "metadata": {},
     "output_type": "execute_result"
    }
   ],
   "source": [
    "model = MultiOutputRegressor(xgb.XGBRegressor())\n",
    "model.fit(X_train, y_train)"
   ]
  },
  {
   "cell_type": "code",
   "execution_count": 11,
   "id": "536bbabf",
   "metadata": {},
   "outputs": [
    {
     "data": {
      "text/plain": [
       "0.3047931669227297"
      ]
     },
     "execution_count": 11,
     "metadata": {},
     "output_type": "execute_result"
    }
   ],
   "source": [
    "y_pred_val = model.predict(X_val)\n",
    "mae = mean_absolute_error(y_val, y_pred_val)\n",
    "mae\n"
   ]
  },
  {
   "cell_type": "code",
   "execution_count": null,
   "id": "af9d9183",
   "metadata": {},
   "outputs": [],
   "source": [
    "test = pd.read_csv('ais_test.csv', sep =',')\n",
    "known_pos = pd.read_csv('ais_test.csv', sep= '|')\n",
    "test['time'] = pd.to_datetime(test['time'], errors='coerce').dt.tz_localize('UTC')"
   ]
  },
  {
   "cell_type": "code",
   "execution_count": null,
   "id": "74433488",
   "metadata": {},
   "outputs": [],
   "source": [
    "def predict_future_position(id, vessel_id, time):\n",
    "    # Fetch the latest known position of the vessel\n",
    "    latest_data_points = t[training_data['vesselId'] == vessel_id]\n",
    "    latest_data_points_sorted = latest_data_points.sort_values(by='time')\n",
    "    \n",
    "    # Set 'time' as the index to allow for time-based rolling window\n",
    "    latest_data_points_sorted = latest_data_points_sorted.set_index('time')\n",
    "    \n",
    "    # Apply rolling window on 'sog' with a 100-day window\n",
    "    latest_data_points_sorted['3_day_avg_speed'] = latest_data_points_sorted['sog'].rolling('3D').mean()\n",
    "    \n",
    "    # Get the latest data point\n",
    "    latest_data_point = latest_data_points_sorted.iloc[-1]\n",
    "\n",
    "    # Prepare the new data for prediction\n",
    "    new_data = {\n",
    "        'prev_lat': latest_data_point['latitude'],\n",
    "        'prev_lon': latest_data_point['longitude'],\n",
    "        'prev_speed': latest_data_point['sog'],\n",
    "        'prev_course': (latest_data_point['cog'] / 180) - 1,\n",
    "        'prev_rotation': latest_data_point['rot'],\n",
    "        'prev_heading': (latest_data_point['heading'] / 180) - 1,\n",
    "\n",
    "        # Use the datetime objects for the time difference\n",
    "        'time_diff_seconds': (pd.to_datetime(time) - latest_data_point.name).total_seconds(),  # .name gives the index (time)\n",
    "        #'3_day_avg_speed': latest_data_point['3_day_avg_speed'],\n",
    "    }\n",
    "\n",
    "    # Make predictions\n",
    "    return id, model_lat.predict([list(new_data.values())])[0], model_lon.predict([list(new_data.values())])[0]\n"
   ]
  }
 ],
 "metadata": {
  "kernelspec": {
   "display_name": "base",
   "language": "python",
   "name": "python3"
  },
  "language_info": {
   "codemirror_mode": {
    "name": "ipython",
    "version": 3
   },
   "file_extension": ".py",
   "mimetype": "text/x-python",
   "name": "python",
   "nbconvert_exporter": "python",
   "pygments_lexer": "ipython3",
   "version": "3.11.5"
  }
 },
 "nbformat": 4,
 "nbformat_minor": 5
}
