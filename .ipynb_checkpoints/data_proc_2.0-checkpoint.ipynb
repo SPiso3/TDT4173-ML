{
 "cells": [
  {
   "cell_type": "markdown",
   "id": "5a0d379a",
   "metadata": {},
   "source": [
    "# DATA PROCESSING FOR XGB AUTO-REGRESSION"
   ]
  },
  {
   "cell_type": "code",
   "execution_count": 1,
   "id": "c5e0442d",
   "metadata": {},
   "outputs": [],
   "source": [
    "import pandas as pd \n",
    "import xgboost as xgb\n",
    "import numpy as np\n",
    "import geopandas as gpd\n",
    "import matplotlib.pyplot as plt\n",
    "from calendar import monthrange\n",
    "pd.set_option('display.max_rows', None)"
   ]
  },
  {
   "cell_type": "code",
   "execution_count": 2,
   "id": "55077d9a",
   "metadata": {},
   "outputs": [],
   "source": [
    "train = pd.read_csv('ais_train.csv', sep='|')\n",
    "test = pd.read_csv('ais_test.csv')"
   ]
  },
  {
   "cell_type": "code",
   "execution_count": 3,
   "id": "dc6f8a37",
   "metadata": {},
   "outputs": [
    {
     "data": {
      "text/plain": [
       "(1522065, 11)"
      ]
     },
     "execution_count": 3,
     "metadata": {},
     "output_type": "execute_result"
    }
   ],
   "source": [
    "train.shape"
   ]
  },
  {
   "cell_type": "code",
   "execution_count": null,
   "id": "9ed5f16d",
   "metadata": {},
   "outputs": [],
   "source": []
  },
  {
   "cell_type": "code",
   "execution_count": 4,
   "id": "ff8c2321",
   "metadata": {
    "scrolled": true
   },
   "outputs": [],
   "source": [
    "train['source'] = 'train'\n",
    "test['source'] = 'test'\n",
    "\n",
    "comb = pd.concat([train, test], axis=0, ignore_index=True)"
   ]
  },
  {
   "cell_type": "code",
   "execution_count": 5,
   "id": "271280c4",
   "metadata": {},
   "outputs": [
    {
     "data": {
      "text/html": [
       "<div>\n",
       "<style scoped>\n",
       "    .dataframe tbody tr th:only-of-type {\n",
       "        vertical-align: middle;\n",
       "    }\n",
       "\n",
       "    .dataframe tbody tr th {\n",
       "        vertical-align: top;\n",
       "    }\n",
       "\n",
       "    .dataframe thead th {\n",
       "        text-align: right;\n",
       "    }\n",
       "</style>\n",
       "<table border=\"1\" class=\"dataframe\">\n",
       "  <thead>\n",
       "    <tr style=\"text-align: right;\">\n",
       "      <th></th>\n",
       "      <th>time</th>\n",
       "      <th>cog</th>\n",
       "      <th>sog</th>\n",
       "      <th>rot</th>\n",
       "      <th>heading</th>\n",
       "      <th>navstat</th>\n",
       "      <th>etaRaw</th>\n",
       "      <th>latitude</th>\n",
       "      <th>longitude</th>\n",
       "      <th>vesselId</th>\n",
       "      <th>portId</th>\n",
       "      <th>source</th>\n",
       "      <th>ID</th>\n",
       "      <th>scaling_factor</th>\n",
       "    </tr>\n",
       "  </thead>\n",
       "  <tbody>\n",
       "    <tr>\n",
       "      <th>1522065</th>\n",
       "      <td>2024-05-08 00:03:16</td>\n",
       "      <td>NaN</td>\n",
       "      <td>NaN</td>\n",
       "      <td>NaN</td>\n",
       "      <td>NaN</td>\n",
       "      <td>NaN</td>\n",
       "      <td>NaN</td>\n",
       "      <td>NaN</td>\n",
       "      <td>NaN</td>\n",
       "      <td>61e9f3aeb937134a3c4bfe3d</td>\n",
       "      <td>NaN</td>\n",
       "      <td>test</td>\n",
       "      <td>0.0</td>\n",
       "      <td>0.3</td>\n",
       "    </tr>\n",
       "    <tr>\n",
       "      <th>1522066</th>\n",
       "      <td>2024-05-08 00:06:17</td>\n",
       "      <td>NaN</td>\n",
       "      <td>NaN</td>\n",
       "      <td>NaN</td>\n",
       "      <td>NaN</td>\n",
       "      <td>NaN</td>\n",
       "      <td>NaN</td>\n",
       "      <td>NaN</td>\n",
       "      <td>NaN</td>\n",
       "      <td>61e9f473b937134a3c4c02df</td>\n",
       "      <td>NaN</td>\n",
       "      <td>test</td>\n",
       "      <td>1.0</td>\n",
       "      <td>0.3</td>\n",
       "    </tr>\n",
       "    <tr>\n",
       "      <th>1522067</th>\n",
       "      <td>2024-05-08 00:10:02</td>\n",
       "      <td>NaN</td>\n",
       "      <td>NaN</td>\n",
       "      <td>NaN</td>\n",
       "      <td>NaN</td>\n",
       "      <td>NaN</td>\n",
       "      <td>NaN</td>\n",
       "      <td>NaN</td>\n",
       "      <td>NaN</td>\n",
       "      <td>61e9f469b937134a3c4c029b</td>\n",
       "      <td>NaN</td>\n",
       "      <td>test</td>\n",
       "      <td>2.0</td>\n",
       "      <td>0.3</td>\n",
       "    </tr>\n",
       "    <tr>\n",
       "      <th>1522068</th>\n",
       "      <td>2024-05-08 00:10:34</td>\n",
       "      <td>NaN</td>\n",
       "      <td>NaN</td>\n",
       "      <td>NaN</td>\n",
       "      <td>NaN</td>\n",
       "      <td>NaN</td>\n",
       "      <td>NaN</td>\n",
       "      <td>NaN</td>\n",
       "      <td>NaN</td>\n",
       "      <td>61e9f45bb937134a3c4c0221</td>\n",
       "      <td>NaN</td>\n",
       "      <td>test</td>\n",
       "      <td>3.0</td>\n",
       "      <td>0.3</td>\n",
       "    </tr>\n",
       "    <tr>\n",
       "      <th>1522069</th>\n",
       "      <td>2024-05-08 00:12:27</td>\n",
       "      <td>NaN</td>\n",
       "      <td>NaN</td>\n",
       "      <td>NaN</td>\n",
       "      <td>NaN</td>\n",
       "      <td>NaN</td>\n",
       "      <td>NaN</td>\n",
       "      <td>NaN</td>\n",
       "      <td>NaN</td>\n",
       "      <td>61e9f38eb937134a3c4bfd8d</td>\n",
       "      <td>NaN</td>\n",
       "      <td>test</td>\n",
       "      <td>4.0</td>\n",
       "      <td>0.3</td>\n",
       "    </tr>\n",
       "  </tbody>\n",
       "</table>\n",
       "</div>"
      ],
      "text/plain": [
       "                        time  cog  sog  rot  heading  navstat etaRaw  \\\n",
       "1522065  2024-05-08 00:03:16  NaN  NaN  NaN      NaN      NaN    NaN   \n",
       "1522066  2024-05-08 00:06:17  NaN  NaN  NaN      NaN      NaN    NaN   \n",
       "1522067  2024-05-08 00:10:02  NaN  NaN  NaN      NaN      NaN    NaN   \n",
       "1522068  2024-05-08 00:10:34  NaN  NaN  NaN      NaN      NaN    NaN   \n",
       "1522069  2024-05-08 00:12:27  NaN  NaN  NaN      NaN      NaN    NaN   \n",
       "\n",
       "         latitude  longitude                  vesselId portId source   ID  \\\n",
       "1522065       NaN        NaN  61e9f3aeb937134a3c4bfe3d    NaN   test  0.0   \n",
       "1522066       NaN        NaN  61e9f473b937134a3c4c02df    NaN   test  1.0   \n",
       "1522067       NaN        NaN  61e9f469b937134a3c4c029b    NaN   test  2.0   \n",
       "1522068       NaN        NaN  61e9f45bb937134a3c4c0221    NaN   test  3.0   \n",
       "1522069       NaN        NaN  61e9f38eb937134a3c4bfd8d    NaN   test  4.0   \n",
       "\n",
       "         scaling_factor  \n",
       "1522065             0.3  \n",
       "1522066             0.3  \n",
       "1522067             0.3  \n",
       "1522068             0.3  \n",
       "1522069             0.3  "
      ]
     },
     "execution_count": 5,
     "metadata": {},
     "output_type": "execute_result"
    }
   ],
   "source": [
    "comb[comb['source'] == 'test'].head()"
   ]
  },
  {
   "cell_type": "code",
   "execution_count": 6,
   "id": "54d86d38",
   "metadata": {},
   "outputs": [
    {
     "data": {
      "text/plain": [
       "(51739, 5)"
      ]
     },
     "execution_count": 6,
     "metadata": {},
     "output_type": "execute_result"
    }
   ],
   "source": [
    "test.shape"
   ]
  },
  {
   "cell_type": "code",
   "execution_count": 7,
   "id": "c935969a",
   "metadata": {
    "scrolled": false
   },
   "outputs": [
    {
     "data": {
      "text/html": [
       "<div>\n",
       "<style scoped>\n",
       "    .dataframe tbody tr th:only-of-type {\n",
       "        vertical-align: middle;\n",
       "    }\n",
       "\n",
       "    .dataframe tbody tr th {\n",
       "        vertical-align: top;\n",
       "    }\n",
       "\n",
       "    .dataframe thead th {\n",
       "        text-align: right;\n",
       "    }\n",
       "</style>\n",
       "<table border=\"1\" class=\"dataframe\">\n",
       "  <thead>\n",
       "    <tr style=\"text-align: right;\">\n",
       "      <th></th>\n",
       "      <th>time</th>\n",
       "      <th>cog</th>\n",
       "      <th>sog</th>\n",
       "      <th>rot</th>\n",
       "      <th>heading</th>\n",
       "      <th>navstat</th>\n",
       "      <th>etaRaw</th>\n",
       "      <th>latitude</th>\n",
       "      <th>longitude</th>\n",
       "      <th>vesselId</th>\n",
       "      <th>portId</th>\n",
       "      <th>source</th>\n",
       "      <th>ID</th>\n",
       "      <th>scaling_factor</th>\n",
       "    </tr>\n",
       "  </thead>\n",
       "  <tbody>\n",
       "    <tr>\n",
       "      <th>131115</th>\n",
       "      <td>2024-01-12 14:07:47</td>\n",
       "      <td>308.1</td>\n",
       "      <td>17.1</td>\n",
       "      <td>-6.0</td>\n",
       "      <td>316.0</td>\n",
       "      <td>0.0</td>\n",
       "      <td>01-08 06:00</td>\n",
       "      <td>7.50361</td>\n",
       "      <td>77.58340</td>\n",
       "      <td>61e9f38eb937134a3c4bfd8b</td>\n",
       "      <td>61d376b393c6feb83e5eb50c</td>\n",
       "      <td>train</td>\n",
       "      <td>NaN</td>\n",
       "      <td>NaN</td>\n",
       "    </tr>\n",
       "    <tr>\n",
       "      <th>131279</th>\n",
       "      <td>2024-01-12 14:31:00</td>\n",
       "      <td>307.6</td>\n",
       "      <td>17.3</td>\n",
       "      <td>5.0</td>\n",
       "      <td>313.0</td>\n",
       "      <td>0.0</td>\n",
       "      <td>01-14 23:30</td>\n",
       "      <td>7.57302</td>\n",
       "      <td>77.49505</td>\n",
       "      <td>61e9f38eb937134a3c4bfd8b</td>\n",
       "      <td>61d376d893c6feb83e5eb546</td>\n",
       "      <td>train</td>\n",
       "      <td>NaN</td>\n",
       "      <td>NaN</td>\n",
       "    </tr>\n",
       "    <tr>\n",
       "      <th>131514</th>\n",
       "      <td>2024-01-12 14:57:23</td>\n",
       "      <td>306.8</td>\n",
       "      <td>16.9</td>\n",
       "      <td>5.0</td>\n",
       "      <td>312.0</td>\n",
       "      <td>0.0</td>\n",
       "      <td>01-14 23:30</td>\n",
       "      <td>7.65043</td>\n",
       "      <td>77.39404</td>\n",
       "      <td>61e9f38eb937134a3c4bfd8b</td>\n",
       "      <td>61d376d893c6feb83e5eb546</td>\n",
       "      <td>train</td>\n",
       "      <td>NaN</td>\n",
       "      <td>NaN</td>\n",
       "    </tr>\n",
       "    <tr>\n",
       "      <th>131696</th>\n",
       "      <td>2024-01-12 15:18:48</td>\n",
       "      <td>307.9</td>\n",
       "      <td>16.9</td>\n",
       "      <td>6.0</td>\n",
       "      <td>313.0</td>\n",
       "      <td>0.0</td>\n",
       "      <td>01-14 23:30</td>\n",
       "      <td>7.71275</td>\n",
       "      <td>77.31394</td>\n",
       "      <td>61e9f38eb937134a3c4bfd8b</td>\n",
       "      <td>61d376d893c6feb83e5eb546</td>\n",
       "      <td>train</td>\n",
       "      <td>NaN</td>\n",
       "      <td>NaN</td>\n",
       "    </tr>\n",
       "    <tr>\n",
       "      <th>131885</th>\n",
       "      <td>2024-01-12 15:39:47</td>\n",
       "      <td>307.0</td>\n",
       "      <td>16.3</td>\n",
       "      <td>7.0</td>\n",
       "      <td>313.0</td>\n",
       "      <td>0.0</td>\n",
       "      <td>01-14 23:30</td>\n",
       "      <td>7.77191</td>\n",
       "      <td>77.23585</td>\n",
       "      <td>61e9f38eb937134a3c4bfd8b</td>\n",
       "      <td>61d376d893c6feb83e5eb546</td>\n",
       "      <td>train</td>\n",
       "      <td>NaN</td>\n",
       "      <td>NaN</td>\n",
       "    </tr>\n",
       "  </tbody>\n",
       "</table>\n",
       "</div>"
      ],
      "text/plain": [
       "                       time    cog   sog  rot  heading  navstat       etaRaw  \\\n",
       "131115  2024-01-12 14:07:47  308.1  17.1 -6.0    316.0      0.0  01-08 06:00   \n",
       "131279  2024-01-12 14:31:00  307.6  17.3  5.0    313.0      0.0  01-14 23:30   \n",
       "131514  2024-01-12 14:57:23  306.8  16.9  5.0    312.0      0.0  01-14 23:30   \n",
       "131696  2024-01-12 15:18:48  307.9  16.9  6.0    313.0      0.0  01-14 23:30   \n",
       "131885  2024-01-12 15:39:47  307.0  16.3  7.0    313.0      0.0  01-14 23:30   \n",
       "\n",
       "        latitude  longitude                  vesselId  \\\n",
       "131115   7.50361   77.58340  61e9f38eb937134a3c4bfd8b   \n",
       "131279   7.57302   77.49505  61e9f38eb937134a3c4bfd8b   \n",
       "131514   7.65043   77.39404  61e9f38eb937134a3c4bfd8b   \n",
       "131696   7.71275   77.31394  61e9f38eb937134a3c4bfd8b   \n",
       "131885   7.77191   77.23585  61e9f38eb937134a3c4bfd8b   \n",
       "\n",
       "                          portId source  ID  scaling_factor  \n",
       "131115  61d376b393c6feb83e5eb50c  train NaN             NaN  \n",
       "131279  61d376d893c6feb83e5eb546  train NaN             NaN  \n",
       "131514  61d376d893c6feb83e5eb546  train NaN             NaN  \n",
       "131696  61d376d893c6feb83e5eb546  train NaN             NaN  \n",
       "131885  61d376d893c6feb83e5eb546  train NaN             NaN  "
      ]
     },
     "execution_count": 7,
     "metadata": {},
     "output_type": "execute_result"
    }
   ],
   "source": [
    "comb.sort_values(by=['vesselId', 'time']).head()"
   ]
  },
  {
   "cell_type": "code",
   "execution_count": 8,
   "id": "3c714722",
   "metadata": {},
   "outputs": [
    {
     "data": {
      "text/html": [
       "<div>\n",
       "<style scoped>\n",
       "    .dataframe tbody tr th:only-of-type {\n",
       "        vertical-align: middle;\n",
       "    }\n",
       "\n",
       "    .dataframe tbody tr th {\n",
       "        vertical-align: top;\n",
       "    }\n",
       "\n",
       "    .dataframe thead th {\n",
       "        text-align: right;\n",
       "    }\n",
       "</style>\n",
       "<table border=\"1\" class=\"dataframe\">\n",
       "  <thead>\n",
       "    <tr style=\"text-align: right;\">\n",
       "      <th></th>\n",
       "      <th>time</th>\n",
       "      <th>cog</th>\n",
       "      <th>sog</th>\n",
       "      <th>rot</th>\n",
       "      <th>heading</th>\n",
       "      <th>navstat</th>\n",
       "      <th>etaRaw</th>\n",
       "      <th>latitude</th>\n",
       "      <th>longitude</th>\n",
       "      <th>vesselId</th>\n",
       "      <th>portId</th>\n",
       "      <th>source</th>\n",
       "      <th>ID</th>\n",
       "      <th>scaling_factor</th>\n",
       "    </tr>\n",
       "  </thead>\n",
       "  <tbody>\n",
       "    <tr>\n",
       "      <th>1522065</th>\n",
       "      <td>2024-05-08 00:03:16</td>\n",
       "      <td>NaN</td>\n",
       "      <td>NaN</td>\n",
       "      <td>NaN</td>\n",
       "      <td>NaN</td>\n",
       "      <td>NaN</td>\n",
       "      <td>NaN</td>\n",
       "      <td>NaN</td>\n",
       "      <td>NaN</td>\n",
       "      <td>61e9f3aeb937134a3c4bfe3d</td>\n",
       "      <td>NaN</td>\n",
       "      <td>test</td>\n",
       "      <td>0.0</td>\n",
       "      <td>0.3</td>\n",
       "    </tr>\n",
       "    <tr>\n",
       "      <th>1522066</th>\n",
       "      <td>2024-05-08 00:06:17</td>\n",
       "      <td>NaN</td>\n",
       "      <td>NaN</td>\n",
       "      <td>NaN</td>\n",
       "      <td>NaN</td>\n",
       "      <td>NaN</td>\n",
       "      <td>NaN</td>\n",
       "      <td>NaN</td>\n",
       "      <td>NaN</td>\n",
       "      <td>61e9f473b937134a3c4c02df</td>\n",
       "      <td>NaN</td>\n",
       "      <td>test</td>\n",
       "      <td>1.0</td>\n",
       "      <td>0.3</td>\n",
       "    </tr>\n",
       "    <tr>\n",
       "      <th>1522067</th>\n",
       "      <td>2024-05-08 00:10:02</td>\n",
       "      <td>NaN</td>\n",
       "      <td>NaN</td>\n",
       "      <td>NaN</td>\n",
       "      <td>NaN</td>\n",
       "      <td>NaN</td>\n",
       "      <td>NaN</td>\n",
       "      <td>NaN</td>\n",
       "      <td>NaN</td>\n",
       "      <td>61e9f469b937134a3c4c029b</td>\n",
       "      <td>NaN</td>\n",
       "      <td>test</td>\n",
       "      <td>2.0</td>\n",
       "      <td>0.3</td>\n",
       "    </tr>\n",
       "    <tr>\n",
       "      <th>1522068</th>\n",
       "      <td>2024-05-08 00:10:34</td>\n",
       "      <td>NaN</td>\n",
       "      <td>NaN</td>\n",
       "      <td>NaN</td>\n",
       "      <td>NaN</td>\n",
       "      <td>NaN</td>\n",
       "      <td>NaN</td>\n",
       "      <td>NaN</td>\n",
       "      <td>NaN</td>\n",
       "      <td>61e9f45bb937134a3c4c0221</td>\n",
       "      <td>NaN</td>\n",
       "      <td>test</td>\n",
       "      <td>3.0</td>\n",
       "      <td>0.3</td>\n",
       "    </tr>\n",
       "    <tr>\n",
       "      <th>1522069</th>\n",
       "      <td>2024-05-08 00:12:27</td>\n",
       "      <td>NaN</td>\n",
       "      <td>NaN</td>\n",
       "      <td>NaN</td>\n",
       "      <td>NaN</td>\n",
       "      <td>NaN</td>\n",
       "      <td>NaN</td>\n",
       "      <td>NaN</td>\n",
       "      <td>NaN</td>\n",
       "      <td>61e9f38eb937134a3c4bfd8d</td>\n",
       "      <td>NaN</td>\n",
       "      <td>test</td>\n",
       "      <td>4.0</td>\n",
       "      <td>0.3</td>\n",
       "    </tr>\n",
       "  </tbody>\n",
       "</table>\n",
       "</div>"
      ],
      "text/plain": [
       "                        time  cog  sog  rot  heading  navstat etaRaw  \\\n",
       "1522065  2024-05-08 00:03:16  NaN  NaN  NaN      NaN      NaN    NaN   \n",
       "1522066  2024-05-08 00:06:17  NaN  NaN  NaN      NaN      NaN    NaN   \n",
       "1522067  2024-05-08 00:10:02  NaN  NaN  NaN      NaN      NaN    NaN   \n",
       "1522068  2024-05-08 00:10:34  NaN  NaN  NaN      NaN      NaN    NaN   \n",
       "1522069  2024-05-08 00:12:27  NaN  NaN  NaN      NaN      NaN    NaN   \n",
       "\n",
       "         latitude  longitude                  vesselId portId source   ID  \\\n",
       "1522065       NaN        NaN  61e9f3aeb937134a3c4bfe3d    NaN   test  0.0   \n",
       "1522066       NaN        NaN  61e9f473b937134a3c4c02df    NaN   test  1.0   \n",
       "1522067       NaN        NaN  61e9f469b937134a3c4c029b    NaN   test  2.0   \n",
       "1522068       NaN        NaN  61e9f45bb937134a3c4c0221    NaN   test  3.0   \n",
       "1522069       NaN        NaN  61e9f38eb937134a3c4bfd8d    NaN   test  4.0   \n",
       "\n",
       "         scaling_factor  \n",
       "1522065             0.3  \n",
       "1522066             0.3  \n",
       "1522067             0.3  \n",
       "1522068             0.3  \n",
       "1522069             0.3  "
      ]
     },
     "execution_count": 8,
     "metadata": {},
     "output_type": "execute_result"
    }
   ],
   "source": [
    "comb[comb['source'] == 'test'].head()"
   ]
  },
  {
   "cell_type": "markdown",
   "id": "77ff8d0b",
   "metadata": {},
   "source": [
    "## Cleaning AIS data"
   ]
  },
  {
   "cell_type": "code",
   "execution_count": 9,
   "id": "1e49c196",
   "metadata": {},
   "outputs": [],
   "source": [
    "# Replacing default with Nan bacause too close to valid values, eliminate non valid values\n",
    "comb['cog'] = comb['cog'].replace(360, np.nan)\n",
    "comb = comb[(comb['cog'] <= 360) | (comb['cog'].isna())]"
   ]
  },
  {
   "cell_type": "code",
   "execution_count": 10,
   "id": "0d3dbd03",
   "metadata": {},
   "outputs": [
    {
     "data": {
      "text/html": [
       "<div>\n",
       "<style scoped>\n",
       "    .dataframe tbody tr th:only-of-type {\n",
       "        vertical-align: middle;\n",
       "    }\n",
       "\n",
       "    .dataframe tbody tr th {\n",
       "        vertical-align: top;\n",
       "    }\n",
       "\n",
       "    .dataframe thead th {\n",
       "        text-align: right;\n",
       "    }\n",
       "</style>\n",
       "<table border=\"1\" class=\"dataframe\">\n",
       "  <thead>\n",
       "    <tr style=\"text-align: right;\">\n",
       "      <th></th>\n",
       "      <th>time</th>\n",
       "      <th>cog</th>\n",
       "      <th>sog</th>\n",
       "      <th>rot</th>\n",
       "      <th>heading</th>\n",
       "      <th>navstat</th>\n",
       "      <th>etaRaw</th>\n",
       "      <th>latitude</th>\n",
       "      <th>longitude</th>\n",
       "      <th>vesselId</th>\n",
       "      <th>portId</th>\n",
       "      <th>source</th>\n",
       "      <th>ID</th>\n",
       "      <th>scaling_factor</th>\n",
       "    </tr>\n",
       "  </thead>\n",
       "  <tbody>\n",
       "    <tr>\n",
       "      <th>1522065</th>\n",
       "      <td>2024-05-08 00:03:16</td>\n",
       "      <td>NaN</td>\n",
       "      <td>NaN</td>\n",
       "      <td>NaN</td>\n",
       "      <td>NaN</td>\n",
       "      <td>NaN</td>\n",
       "      <td>NaN</td>\n",
       "      <td>NaN</td>\n",
       "      <td>NaN</td>\n",
       "      <td>61e9f3aeb937134a3c4bfe3d</td>\n",
       "      <td>NaN</td>\n",
       "      <td>test</td>\n",
       "      <td>0.0</td>\n",
       "      <td>0.3</td>\n",
       "    </tr>\n",
       "    <tr>\n",
       "      <th>1522066</th>\n",
       "      <td>2024-05-08 00:06:17</td>\n",
       "      <td>NaN</td>\n",
       "      <td>NaN</td>\n",
       "      <td>NaN</td>\n",
       "      <td>NaN</td>\n",
       "      <td>NaN</td>\n",
       "      <td>NaN</td>\n",
       "      <td>NaN</td>\n",
       "      <td>NaN</td>\n",
       "      <td>61e9f473b937134a3c4c02df</td>\n",
       "      <td>NaN</td>\n",
       "      <td>test</td>\n",
       "      <td>1.0</td>\n",
       "      <td>0.3</td>\n",
       "    </tr>\n",
       "    <tr>\n",
       "      <th>1522067</th>\n",
       "      <td>2024-05-08 00:10:02</td>\n",
       "      <td>NaN</td>\n",
       "      <td>NaN</td>\n",
       "      <td>NaN</td>\n",
       "      <td>NaN</td>\n",
       "      <td>NaN</td>\n",
       "      <td>NaN</td>\n",
       "      <td>NaN</td>\n",
       "      <td>NaN</td>\n",
       "      <td>61e9f469b937134a3c4c029b</td>\n",
       "      <td>NaN</td>\n",
       "      <td>test</td>\n",
       "      <td>2.0</td>\n",
       "      <td>0.3</td>\n",
       "    </tr>\n",
       "    <tr>\n",
       "      <th>1522068</th>\n",
       "      <td>2024-05-08 00:10:34</td>\n",
       "      <td>NaN</td>\n",
       "      <td>NaN</td>\n",
       "      <td>NaN</td>\n",
       "      <td>NaN</td>\n",
       "      <td>NaN</td>\n",
       "      <td>NaN</td>\n",
       "      <td>NaN</td>\n",
       "      <td>NaN</td>\n",
       "      <td>61e9f45bb937134a3c4c0221</td>\n",
       "      <td>NaN</td>\n",
       "      <td>test</td>\n",
       "      <td>3.0</td>\n",
       "      <td>0.3</td>\n",
       "    </tr>\n",
       "    <tr>\n",
       "      <th>1522069</th>\n",
       "      <td>2024-05-08 00:12:27</td>\n",
       "      <td>NaN</td>\n",
       "      <td>NaN</td>\n",
       "      <td>NaN</td>\n",
       "      <td>NaN</td>\n",
       "      <td>NaN</td>\n",
       "      <td>NaN</td>\n",
       "      <td>NaN</td>\n",
       "      <td>NaN</td>\n",
       "      <td>61e9f38eb937134a3c4bfd8d</td>\n",
       "      <td>NaN</td>\n",
       "      <td>test</td>\n",
       "      <td>4.0</td>\n",
       "      <td>0.3</td>\n",
       "    </tr>\n",
       "  </tbody>\n",
       "</table>\n",
       "</div>"
      ],
      "text/plain": [
       "                        time  cog  sog  rot  heading  navstat etaRaw  \\\n",
       "1522065  2024-05-08 00:03:16  NaN  NaN  NaN      NaN      NaN    NaN   \n",
       "1522066  2024-05-08 00:06:17  NaN  NaN  NaN      NaN      NaN    NaN   \n",
       "1522067  2024-05-08 00:10:02  NaN  NaN  NaN      NaN      NaN    NaN   \n",
       "1522068  2024-05-08 00:10:34  NaN  NaN  NaN      NaN      NaN    NaN   \n",
       "1522069  2024-05-08 00:12:27  NaN  NaN  NaN      NaN      NaN    NaN   \n",
       "\n",
       "         latitude  longitude                  vesselId portId source   ID  \\\n",
       "1522065       NaN        NaN  61e9f3aeb937134a3c4bfe3d    NaN   test  0.0   \n",
       "1522066       NaN        NaN  61e9f473b937134a3c4c02df    NaN   test  1.0   \n",
       "1522067       NaN        NaN  61e9f469b937134a3c4c029b    NaN   test  2.0   \n",
       "1522068       NaN        NaN  61e9f45bb937134a3c4c0221    NaN   test  3.0   \n",
       "1522069       NaN        NaN  61e9f38eb937134a3c4bfd8d    NaN   test  4.0   \n",
       "\n",
       "         scaling_factor  \n",
       "1522065             0.3  \n",
       "1522066             0.3  \n",
       "1522067             0.3  \n",
       "1522068             0.3  \n",
       "1522069             0.3  "
      ]
     },
     "execution_count": 10,
     "metadata": {},
     "output_type": "execute_result"
    }
   ],
   "source": [
    "comb[comb['source'] == 'test'].head()"
   ]
  },
  {
   "cell_type": "code",
   "execution_count": 11,
   "id": "99d558f5",
   "metadata": {},
   "outputs": [
    {
     "ename": "NameError",
     "evalue": "name 'err' is not defined",
     "output_type": "error",
     "traceback": [
      "\u001b[0;31m---------------------------------------------------------------------------\u001b[0m",
      "\u001b[0;31mNameError\u001b[0m                                 Traceback (most recent call last)",
      "Cell \u001b[0;32mIn[11], line 1\u001b[0m\n\u001b[0;32m----> 1\u001b[0m err\n",
      "\u001b[0;31mNameError\u001b[0m: name 'err' is not defined"
     ]
    }
   ],
   "source": [
    "err"
   ]
  },
  {
   "cell_type": "code",
   "execution_count": null,
   "id": "34fca499",
   "metadata": {},
   "outputs": [],
   "source": [
    "\n",
    "\n",
    "# Replacing default with Nan bacause too close to valid values\n",
    "comb['sog'] = comb['sog'].replace(1023, np.nan)\n",
    "\n",
    "# Replacing default with Nan bacause too close to valid values\n",
    "# Changing uncertain values to bigger number to be further away from sample pool\n",
    "# Adding uncertainty flag\n",
    "comb['rot'] = comb['rot'].replace(128, np.nan)\n",
    "comb['rot'] = comb['rot'].replace({127: 200, -127: -200})\n",
    "comb['uncertain_rot'] = np.where(comb['rot'].isin([200, -200]), 1, 0)\n",
    "\n",
    "# Replacing default value with NaN to not get taken in consideration by regression\n",
    "comb['heading'] = comb['heading'].replace(511, np.nan)"
   ]
  },
  {
   "cell_type": "code",
   "execution_count": null,
   "id": "c805a0d2",
   "metadata": {},
   "outputs": [],
   "source": [
    "comb[comb['source'] == 'test'].head()"
   ]
  },
  {
   "cell_type": "code",
   "execution_count": null,
   "id": "18f54692",
   "metadata": {},
   "outputs": [],
   "source": [
    "# One hot encoding for the navigation status\n",
    "comb = pd.get_dummies(comb, columns=['navstat'], drop_first = True)"
   ]
  },
  {
   "cell_type": "code",
   "execution_count": null,
   "id": "36d3fe7d",
   "metadata": {},
   "outputs": [],
   "source": [
    "# Get Date-Time from standard and raw data\n",
    "comb['time'] = pd.to_datetime(comb['time'], errors='coerce').dt.tz_localize('UTC')\n",
    "comb['etaRaw'] = comb['etaRaw'].fillna(0)\n",
    "comb['etaRaw'] = comb['etaRaw'].apply(lambda x: f\"{2024}-{x}\")\n",
    "comb['etaRaw'] = pd.to_datetime(comb['etaRaw'], errors='coerce').dt.tz_localize('UTC')\n",
    "comb.rename(columns={'etaRaw': 'etaStd'}, inplace=True)\n",
    "\n",
    "# Handle first month of the years ETA year to be 2023\n",
    "comb['etaStd'] = comb.apply(lambda row: row['etaStd'].replace(year=row['etaStd'].year - 1)\n",
    "                        if row['etaStd'].month in [11, 12] and row['time'].month in [1, 2] \n",
    "                        else row['etaStd'], axis=1) \n",
    "comb['etaStd'].head(10)"
   ]
  },
  {
   "cell_type": "markdown",
   "id": "a02b6444",
   "metadata": {},
   "source": [
    "## Clean schedules data\n",
    "TODO: decide if to use the schedule data"
   ]
  },
  {
   "cell_type": "code",
   "execution_count": null,
   "id": "35269447",
   "metadata": {},
   "outputs": [],
   "source": [
    "schedules = pd.read_csv('schedules_to_may_2024.csv', sep='|')\n",
    "#schedules.drop(['shippingLineName', 'portName'], axis=1, inplace=True)\n",
    "#schedules.rename(columns={'portId': 'portId_sched'}, inplace=True)"
   ]
  },
  {
   "cell_type": "code",
   "execution_count": null,
   "id": "4c97de95",
   "metadata": {},
   "outputs": [],
   "source": [
    "schedules.sort_values(by=['vesselId', 'arrivalDate']).head(100)"
   ]
  },
  {
   "cell_type": "code",
   "execution_count": null,
   "id": "976da7b3",
   "metadata": {
    "scrolled": true
   },
   "outputs": [],
   "source": [
    "#Schedules has a lot of duplicates\n",
    "schedules.duplicated().sum(), schedules.drop_duplicates(inplace=True) "
   ]
  },
  {
   "cell_type": "code",
   "execution_count": null,
   "id": "7a8872b3",
   "metadata": {},
   "outputs": [],
   "source": [
    "schedules['arrivalDate'] = pd.to_datetime(schedules['arrivalDate'])\n",
    "schedules['sailingDate'] = pd.to_datetime(schedules['sailingDate'])"
   ]
  },
  {
   "cell_type": "code",
   "execution_count": null,
   "id": "1ca5b57e",
   "metadata": {
    "scrolled": true
   },
   "outputs": [],
   "source": [
    "# Check information distribution in schedules\n",
    "schedules['year_month'] = schedules['arrivalDate'].dt.to_period('M')\n",
    "\n",
    "monthly_counts = schedules.groupby('year_month').size()\n",
    "\n",
    "plt.figure(figsize=(12, 6))\n",
    "monthly_counts.plot(kind='bar', color='skyblue')\n",
    "plt.title('Monthly Frequency of Vessel Information in Schedules')\n",
    "plt.xlabel('Month')\n",
    "plt.ylabel('Frequency')\n",
    "plt.xticks(rotation=45)\n",
    "plt.show()\n",
    "schedules.drop(['year_month'], axis=1, inplace=True)"
   ]
  },
  {
   "cell_type": "markdown",
   "id": "53f54d2c",
   "metadata": {},
   "source": [
    "## Cleaning vessels data"
   ]
  },
  {
   "cell_type": "code",
   "execution_count": null,
   "id": "832f3616",
   "metadata": {
    "scrolled": true
   },
   "outputs": [],
   "source": [
    "vessels = pd.read_csv('vessels.csv', sep='|')\n",
    "# Drop useless data\n",
    "vessels.drop('GT', axis=1, inplace=True)\n",
    "vessels.drop('NT', axis=1, inplace=True)\n",
    "vessels.drop('depth', axis=1, inplace=True)\n",
    "vessels.drop('draft', axis=1, inplace=True)\n",
    "vessels.drop('homePort', axis=1, inplace=True)\n",
    "vessels.drop('maxHeight', axis=1, inplace=True)\n",
    "vessels.drop('maxWidth', axis=1, inplace=True)\n",
    "# One hot encoding for vessels types\n",
    "vessels = pd.get_dummies(vessels, columns=['vesselType']) #no drop_first to handle the NaN"
   ]
  },
  {
   "cell_type": "code",
   "execution_count": null,
   "id": "47077b2b",
   "metadata": {},
   "outputs": [],
   "source": [
    "comb = pd.merge(comb, vessels, on='vesselId', how='left')\n",
    "comb.head(10)\n",
    "\n",
    "# Added: shippingLineId | CEU | DWT | vesselType(1 Hot) | breath | lenght "
   ]
  },
  {
   "cell_type": "markdown",
   "id": "1791e886",
   "metadata": {},
   "source": [
    "## Cleaning ports data"
   ]
  },
  {
   "cell_type": "code",
   "execution_count": null,
   "id": "21d59e22",
   "metadata": {},
   "outputs": [],
   "source": [
    "ports = pd.read_csv('ports.csv', sep='|')\n",
    "# Drop useless\n",
    "ports.drop('name', axis=1, inplace=True)\n",
    "ports.drop('portLocation', axis=1, inplace=True)\n",
    "ports.drop('countryName', axis=1, inplace=True)\n",
    "ports.drop('UN_LOCODE', axis=1, inplace=True)\n",
    "ports.drop('ISO', axis=1, inplace=True)\n",
    "# Rename to differenciate\n",
    "ports.rename(columns={'longitude': 'portLongitude', 'latitude': 'portLatitude'}, inplace=True)"
   ]
  },
  {
   "cell_type": "code",
   "execution_count": null,
   "id": "fdccb0ef",
   "metadata": {
    "scrolled": false
   },
   "outputs": [],
   "source": [
    "comb = pd.merge(comb, ports, on='portId', how='left')\n",
    "comb.head(10)\n",
    "# Added: portLongitude | portLatitude"
   ]
  },
  {
   "cell_type": "markdown",
   "id": "8ebde1be",
   "metadata": {},
   "source": [
    "# FEATURE ENGINEERING"
   ]
  },
  {
   "cell_type": "code",
   "execution_count": null,
   "id": "69c6e558",
   "metadata": {},
   "outputs": [],
   "source": [
    "# Sort train data on vesselId and by time\n",
    "comb = comb.sort_values(by=['vesselId', 'time'])"
   ]
  },
  {
   "cell_type": "markdown",
   "id": "aed1c9dd",
   "metadata": {},
   "source": [
    "### Time since last data collection"
   ]
  },
  {
   "cell_type": "code",
   "execution_count": null,
   "id": "785b026d",
   "metadata": {},
   "outputs": [],
   "source": [
    "comb['time_diff_minutes'] = comb.groupby('vesselId')['time'].diff().dt.total_seconds() / 60\n",
    "# Make integer changing numbers 0<x<1 to one so that the 0 is only a separator between ships\n",
    "comb['time_diff_minutes'] = comb['time_diff_minutes'].fillna(0).apply(lambda x: 1 if 0 < x < 1 else x).astype(int)"
   ]
  },
  {
   "cell_type": "markdown",
   "id": "bf48f75a",
   "metadata": {},
   "source": [
    "### Distance since last data collection"
   ]
  },
  {
   "cell_type": "code",
   "execution_count": null,
   "id": "d99f1878",
   "metadata": {},
   "outputs": [],
   "source": [
    "def haversine(lat1, lon1, lat2, lon2, to_radians=True, earth_radius=6371):\n",
    "    \"\"\"\n",
    "    slightly modified version: of http://stackoverflow.com/a/29546836/2901002\n",
    "\n",
    "    Calculate the great circle distance between two points\n",
    "    on the earth (specified in decimal degrees or in radians)\n",
    "\n",
    "    All (lat, lon) coordinates must have numeric dtypes and be of equal length.\n",
    "\n",
    "    \"\"\"\n",
    "    if to_radians:\n",
    "        lat1, lon1, lat2, lon2 = np.radians([lat1, lon1, lat2, lon2])\n",
    "\n",
    "    a = np.sin((lat2-lat1)/2.0)**2 + \\\n",
    "        np.cos(lat1) * np.cos(lat2) * np.sin((lon2-lon1)/2.0)**2\n",
    "\n",
    "    return earth_radius * 2 * np.arcsin(np.sqrt(a))\n"
   ]
  },
  {
   "cell_type": "code",
   "execution_count": null,
   "id": "4508d970",
   "metadata": {},
   "outputs": [],
   "source": [
    "def calculate_distances(df):\n",
    "    # Create new columns for previous latitude and longitude\n",
    "    df['prev_latitude'] = df.groupby('vesselId')['latitude'].shift(1)\n",
    "    df['prev_longitude'] = df.groupby('vesselId')['longitude'].shift(1)\n",
    "\n",
    "    # Calculate distance between current and previous position\n",
    "    df['distance_km'] = df.apply(\n",
    "        lambda row: haversine(row['latitude'], row['longitude'], \n",
    "                               row['prev_latitude'], row['prev_longitude']) \n",
    "                     if pd.notna(row['prev_latitude']) and pd.notna(row['prev_longitude']) \n",
    "                     else np.nan, axis=1)\n",
    "    \n",
    "    # Drop the helper columns if not needed\n",
    "    df.drop(columns=['prev_latitude', 'prev_longitude'], inplace=True)\n",
    "\n",
    "    return df"
   ]
  },
  {
   "cell_type": "code",
   "execution_count": null,
   "id": "f0ab419a",
   "metadata": {},
   "outputs": [],
   "source": [
    "comb = calculate_distances(comb)"
   ]
  },
  {
   "cell_type": "markdown",
   "id": "797aa200",
   "metadata": {},
   "source": [
    "### Calculate average speed in previous stretch"
   ]
  },
  {
   "cell_type": "code",
   "execution_count": null,
   "id": "76d7fc44",
   "metadata": {},
   "outputs": [],
   "source": [
    "comb['mph_last_stretch'] = (comb['distance_km'] *  0.621371) / (comb['time_diff_minutes'] / 60)"
   ]
  },
  {
   "cell_type": "code",
   "execution_count": null,
   "id": "13db06f9",
   "metadata": {},
   "outputs": [],
   "source": [
    "comb[comb['source'] == 'test'].head()"
   ]
  },
  {
   "cell_type": "code",
   "execution_count": null,
   "id": "1448cfed",
   "metadata": {},
   "outputs": [],
   "source": [
    "# Remove unrealist values over the datadase\n",
    "comb = comb[comb['mph_last_stretch']<60] "
   ]
  },
  {
   "cell_type": "code",
   "execution_count": null,
   "id": "d0ce0a8a",
   "metadata": {},
   "outputs": [],
   "source": [
    "comb[comb['source'] == 'test'].head()"
   ]
  },
  {
   "cell_type": "markdown",
   "id": "902dd3a4",
   "metadata": {},
   "source": [
    "## Lag features and moving average"
   ]
  },
  {
   "cell_type": "code",
   "execution_count": null,
   "id": "9f16771d",
   "metadata": {},
   "outputs": [],
   "source": [
    "# Lagging features \n",
    "comb['latitude_lag1'] = comb.groupby('vesselId')['latitude'].shift(1)\n",
    "comb['longitude_lag1'] = comb.groupby('vesselId')['longitude'].shift(1)\n",
    "comb['mph_last_stretch_lag'] = comb.groupby('vesselId')['mph_last_stretch'].shift(1)\n",
    "comb['distance_km_lag'] = comb.groupby('vesselId')['distance_km'].shift(1)"
   ]
  },
  {
   "cell_type": "markdown",
   "id": "325fc392",
   "metadata": {},
   "source": [
    "## Time sin/cos encoding"
   ]
  },
  {
   "cell_type": "code",
   "execution_count": null,
   "id": "eb3fd053",
   "metadata": {},
   "outputs": [],
   "source": [
    "# Separate Date-Time in single attributes\n",
    "comb['year_rec'] = comb['time'].dt.year\n",
    "comb['month_rec'] = comb['time'].dt.month\n",
    "comb['day_rec'] = comb['time'].dt.day\n",
    "comb['hour_rec'] = comb['time'].dt.hour\n",
    "comb['minute_rec'] = comb['time'].dt.minute\n",
    "\n",
    "\n",
    "\n",
    "comb['year_eta'] = comb['etaStd'].dt.year.fillna(0).astype('int32')\n",
    "comb['month_eta'] = comb['etaStd'].dt.month.fillna(0).astype('int32')\n",
    "comb['day_eta'] = comb['etaStd'].dt.day.fillna(0).astype('int32')\n",
    "comb['hour_eta'] = comb['etaStd'].dt.hour.fillna(0).astype('int32')\n",
    "comb['minute_eta'] = comb['etaStd'].dt.minute.fillna(0).astype('int32')\n"
   ]
  },
  {
   "cell_type": "code",
   "execution_count": null,
   "id": "d15ce032",
   "metadata": {},
   "outputs": [],
   "source": [
    "def get_month_progress(row, time_type = '_rec'):\n",
    "    if row[f'month{time_type}'] == 0:\n",
    "        return np.nan\n",
    "    days_in_month = monthrange(row[f'year{time_type}'], row[f'month{time_type}'])[1]\n",
    "    day_progress = (row[f'day{time_type}'] - 1 + row[f'hour{time_type}']/24 + row[f'minute{time_type}']/(24*60)) / days_in_month\n",
    "    return day_progress"
   ]
  },
  {
   "cell_type": "code",
   "execution_count": null,
   "id": "47f8df21",
   "metadata": {},
   "outputs": [],
   "source": [
    "# Recordings time\n",
    "comb['month_sin_rec'] = np.sin(2 * np.pi * comb['month_rec'] / 12)\n",
    "comb['month_cos_rec'] = np.cos(2 * np.pi * comb['month_rec'] / 12)\n",
    "\n",
    "comb['day_progress_rec'] = comb.apply(lambda row: get_month_progress(row, '_rec'), axis=1)\n",
    "comb['day_sin_rec'] = np.sin(2 * np.pi * comb['day_progress_rec'])\n",
    "comb['day_cos_rec'] = np.cos(2 * np.pi * comb['day_progress_rec'])\n",
    "\n",
    "hour_progress = comb['hour_rec'] + comb['minute_rec']/60\n",
    "comb['hour_sin_rec'] = np.sin(2 * np.pi * hour_progress / 24)\n",
    "comb['hour_cos_rec'] = np.cos(2 * np.pi * hour_progress / 24)\n",
    "\n",
    "comb['minute_sin_rec'] = np.sin(2 * np.pi * comb['minute_rec'] / 60)\n",
    "comb['minute_cos_rec'] = np.cos(2 * np.pi * comb['minute_rec'] / 60)\n",
    "\n",
    "\n",
    "\n",
    "# ETA\n",
    "comb['month_sin_eta'] = np.sin(2 * np.pi * comb['month_eta'] / 12)\n",
    "comb['month_cos_eta'] = np.cos(2 * np.pi * comb['month_eta'] / 12)\n",
    "\n",
    "comb['day_progress_eta'] = comb.apply(lambda row: get_month_progress(row, '_eta'), axis=1)\n",
    "comb['day_sin_eta'] = np.sin(2 * np.pi * comb['day_progress_eta'])\n",
    "comb['day_cos_eta'] = np.cos(2 * np.pi * comb['day_progress_eta'])\n",
    "\n",
    "hour_progress = comb['hour_eta'] + comb['minute_eta']/60\n",
    "comb['hour_sin_eta'] = np.sin(2 * np.pi * hour_progress / 24)\n",
    "comb['hour_cos_eta'] = np.cos(2 * np.pi * hour_progress / 24)\n"
   ]
  },
  {
   "cell_type": "markdown",
   "id": "48ec7c04",
   "metadata": {},
   "source": [
    "## Add a flag if there's a probability of looking at a new trip "
   ]
  },
  {
   "cell_type": "code",
   "execution_count": null,
   "id": "27884bae",
   "metadata": {},
   "outputs": [],
   "source": [
    "# Selecting a threshold where we tell the model to consider the posibility of a new trip starting\n",
    "# Current: 8h20m, 200km traveled (15mph avg speed)\n",
    "# Not realistic but reasonable to consider shorter path for training\n",
    "# Maybe change later\n",
    "comb['new_trip'] = np.where(\n",
    "    (comb['time_diff_minutes'] == 0) | (comb['time_diff_minutes'] >= 500) |\n",
    "    (comb['distance_km'].isna()) | (comb['distance_km'] >= 200),\n",
    "    1, 0  # Set to 1 if conditions are met, else 0\n",
    ")\n",
    "# Might add differerence in eta as an indicator"
   ]
  },
  {
   "cell_type": "markdown",
   "id": "728ca6da",
   "metadata": {},
   "source": [
    "# TRAINING"
   ]
  },
  {
   "cell_type": "code",
   "execution_count": null,
   "id": "927bd63c",
   "metadata": {
    "scrolled": true
   },
   "outputs": [],
   "source": [
    "comb.dtypes"
   ]
  },
  {
   "cell_type": "code",
   "execution_count": null,
   "id": "4ff0893a",
   "metadata": {
    "scrolled": true
   },
   "outputs": [],
   "source": [
    "# Encode IDs \n",
    "from sklearn.preprocessing import LabelEncoder\n",
    "\n",
    "label_encoder = LabelEncoder()\n",
    "comb['vesselId_encoded'] = label_encoder.fit_transform(comb['vesselId'])\n",
    "comb['portId_encoded'] = label_encoder.fit_transform(comb['portId'])\n",
    "comb['shippingLineId_encoded'] = label_encoder.fit_transform(comb['shippingLineId'])\n",
    "\n",
    "# Drop non valid columns\n",
    "comb.drop(columns=['vesselId'], inplace=True)\n",
    "comb.drop(columns=['portId'], inplace=True)\n",
    "comb.drop(columns=['shippingLineId'], inplace=True)\n",
    "comb.drop(columns=['time'], inplace=True)\n",
    "comb.drop(columns=['etaStd'], inplace=True)\n",
    "\n",
    "# Split data after porcessing\n",
    "train_separated = comb[comb['source'] == 'train']\n",
    "test_separated = comb[comb['source'] == 'train']"
   ]
  },
  {
   "cell_type": "code",
   "execution_count": null,
   "id": "cc202cd0",
   "metadata": {},
   "outputs": [],
   "source": [
    "test_separated = comb[comb['source'] == 'test']"
   ]
  },
  {
   "cell_type": "code",
   "execution_count": null,
   "id": "80bb82ac",
   "metadata": {},
   "outputs": [],
   "source": [
    "train_separated.head()"
   ]
  },
  {
   "cell_type": "code",
   "execution_count": null,
   "id": "f3998f22",
   "metadata": {},
   "outputs": [],
   "source": [
    "test_separated.head()"
   ]
  },
  {
   "cell_type": "code",
   "execution_count": null,
   "id": "e36e1c3a",
   "metadata": {
    "scrolled": true
   },
   "outputs": [],
   "source": [
    "err\n",
    "from sklearn.multioutput import MultiOutputRegressor\n",
    "from xgboost import XGBRegressor\n",
    "\n",
    "# Replace 'target_column1' and 'target_column2' with the names of your target columns\n",
    "target_columns = ['latitude', 'longitude']\n",
    "X_train = train_separated.drop(columns=target_columns)\n",
    "y_train = train_separated[target_columns]\n",
    "\n",
    "X_test = test_separated.drop(columns=target_columns)\n",
    "\n",
    "# Instantiate the multi-output model with XGBoost as the base regressor\n",
    "multi_output_model = MultiOutputRegressor(XGBRegressor(enable_categorical=True))\n",
    "\n",
    "# Train the model\n",
    "multi_output_model.fit(X_train, y_train)\n",
    "\n",
    "# Now you can use multi_output_model to predict on new data\n",
    "y_pred = multi_output_model.predict(X_test)"
   ]
  },
  {
   "cell_type": "code",
   "execution_count": null,
   "id": "66e37f7b",
   "metadata": {},
   "outputs": [],
   "source": [
    "# Now you can use multi_output_model to predict on new data\n",
    "y_pred = multi_output_model.predict(X_test)"
   ]
  },
  {
   "cell_type": "code",
   "execution_count": null,
   "id": "d2002bf2",
   "metadata": {},
   "outputs": [],
   "source": [
    "y_pred_df = pd.DataFrame(y_pred, columns=['predicted_longitude', 'predicted_latitude'])\n",
    "y_pred_df.head()"
   ]
  }
 ],
 "metadata": {
  "kernelspec": {
   "display_name": "Python 3 (ipykernel)",
   "language": "python",
   "name": "python3"
  },
  "language_info": {
   "codemirror_mode": {
    "name": "ipython",
    "version": 3
   },
   "file_extension": ".py",
   "mimetype": "text/x-python",
   "name": "python",
   "nbconvert_exporter": "python",
   "pygments_lexer": "ipython3",
   "version": "3.11.5"
  }
 },
 "nbformat": 4,
 "nbformat_minor": 5
}
